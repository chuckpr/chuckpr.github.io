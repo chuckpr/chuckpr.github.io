{
 "cells": [
  {
   "cell_type": "markdown",
   "metadata": {},
   "source": [
    "If you're a microbial ecologist and you haven't used [phyloseq](http://joey711.github.io/phyloseq/), put away your vintage scarf and thick-rimmed glasses because you are not hip. [phyloseq](http://joey711.github.io/phyloseq/) is the nexus of all that is good in the universe. In this post we'll look at one of the greatest [phyloseq](http://joey711.github.io/phyloseq/) functions, ```psmelt```. ```psmelt``` combines your sample info, OTU counts, and taxonomic annotations into a single dataframe where every row represents an OTU-sample combination. Hhhhwhat!?! Amazing, I know. From this omnipotent dataframe you can do anything. So, how do we use ```psmelt```? And can we re-create ```psmelt``` with [dplyr](https://github.com/hadley/dplyr) and [tidyr](https://github.com/hadley/tidyr)?"
   ]
  },
  {
   "cell_type": "markdown",
   "metadata": {},
   "source": [
    "Let's start by bringing in some R packages and loading the ```rmagic``` extension for IPython. "
   ]
  },
  {
   "cell_type": "code",
   "execution_count": 1,
   "metadata": {
    "collapsed": false,
    "jupyter": {
     "outputs_hidden": false
    }
   },
   "outputs": [],
   "source": [
    "%load_ext rpy2.ipython"
   ]
  },
  {
   "cell_type": "code",
   "execution_count": 2,
   "metadata": {
    "collapsed": false,
    "jupyter": {
     "outputs_hidden": false
    }
   },
   "outputs": [
    {
     "data": {
      "text/plain": [
       "\n",
       "Attaching package: ‘dplyr’\n",
       "\n",
       "The following object is masked from ‘package:stats’:\n",
       "\n",
       "    filter\n",
       "\n",
       "The following objects are masked from ‘package:base’:\n",
       "\n",
       "    intersect, setdiff, setequal, union\n",
       "\n",
       "\n",
       "Attaching package: ‘magrittr’\n",
       "\n",
       "The following object is masked from ‘package:tidyr’:\n",
       "\n",
       "    extract\n",
       "\n",
       "Use suppressPackageStartupMessages to eliminate package startup messages.\n"
      ]
     },
     "metadata": {},
     "output_type": "display_data"
    }
   ],
   "source": [
    "%%R\n",
    "library(phyloseq)\n",
    "library(dplyr); library(tidyr)\n",
    "library(magrittr)\n",
    "library(ggplot2)"
   ]
  },
  {
   "cell_type": "markdown",
   "metadata": {},
   "source": [
    "I'm going to use data from a paper we recently submitted. See the pre-print [here](http://dx.doi.org/10.1101/013813\n",
    ") if you're interested. A typical microbiome data set consists of three tables:"
   ]
  },
  {
   "cell_type": "markdown",
   "metadata": {},
   "source": [
    "1. A table of sample information.\n",
    "1. A table of OTU counts in the samples.\n",
    "1. A table of taxonomic info for each OTU."
   ]
  },
  {
   "cell_type": "markdown",
   "metadata": {},
   "source": [
    "In this example the OTU counts and taxonomic info are combined in a json [biom](http://biom-format.org/) formatted table. We have the sample information in a [QIIME](http://qiime.org/) formatted sample metadata table. Don't get bogged down in the file formats, however. They're just tables and you can get tables into R easily. Focus on the concepts and what information you need to do an analysis."
   ]
  },
  {
   "cell_type": "markdown",
   "metadata": {},
   "source": [
    "We'll write a quick function to handle the [QIIME](http://qiime.org/) formatted sample data table (**note how we're just using the base R ```read.table``` function**) and we'll use the ```import_biom``` function from [phyloseq](http://joey711.github.io/phyloseq/) to import our OTU counts and OTU taxonomic annotations. We'll combine all the info into a ```phyloseq object```. "
   ]
  },
  {
   "cell_type": "code",
   "execution_count": 3,
   "metadata": {
    "collapsed": false,
    "jupyter": {
     "outputs_hidden": false
    }
   },
   "outputs": [
    {
     "data": {
      "text/plain": [
       "phyloseq-class experiment-level object\n",
       "otu_table()   OTU Table:         [ 4340 taxa and 158 samples ]\n",
       "sample_data() Sample Data:       [ 158 samples by 46 sample variables ]\n",
       "tax_table()   Taxonomy Table:    [ 4340 taxa by 8 taxonomic ranks ]\n"
      ]
     },
     "metadata": {},
     "output_type": "display_data"
    }
   ],
   "source": [
    "%%R\n",
    "read.qiime = function(fn) {\n",
    "    read.table(fn, sep = \"\\t\", comment = \"\", header = TRUE, stringsAsFactors = FALSE) %>%\n",
    "    rename(SampleID = X.SampleID) %>%\n",
    "    {rownames(.) = .$SampleID; .} %>%\n",
    "    data.frame %>% sample_data\n",
    "}\n",
    "\n",
    "physeq = import_biom(\"data/otu_table_wtax.biom\")\n",
    "sample_data(physeq) = read.qiime(\"data/sample_data_combined_qiime_format.tsv\")\n",
    "physeq"
   ]
  },
  {
   "cell_type": "markdown",
   "metadata": {},
   "source": [
    "Great! Now let's **melt** all that information into an **all-powerful, all-knowing, benevolent** dataframe. (Evil laugh)"
   ]
  },
  {
   "cell_type": "code",
   "execution_count": 4,
   "metadata": {
    "collapsed": false,
    "jupyter": {
     "outputs_hidden": false
    }
   },
   "outputs": [
    {
     "data": {
      "text/plain": [
       "              OTU  SampleID Abundance\n",
       "20025    OTU.1106 4502024.3      2233\n",
       "288    DQ531697.1    site16      2147\n",
       "19962    OTU.1106    site19      1505\n",
       "272    DQ531697.1    site15      1426\n",
       "310    DQ531697.1    site17      1278\n",
       "456836     OTU.36    site19      1268\n"
      ]
     },
     "metadata": {},
     "output_type": "display_data"
    }
   ],
   "source": [
    "%%R\n",
    "mdf = psmelt(physeq)\n",
    "mdf %>% select(OTU, SampleID, Abundance) %>% head"
   ]
  },
  {
   "cell_type": "markdown",
   "metadata": {},
   "source": [
    "To keep this post short, I won't demonstrate where you can go from a melted ```phyloseq object```. Suffice to say that you can go anywhere with your melted ```phyloseq object```/dataframe. Think of it like a [magic carpet](https://www.youtube.com/watch?v=qJJog4BJrUw)."
   ]
  },
  {
   "cell_type": "markdown",
   "metadata": {},
   "source": [
    "With really big OTU tables, melting can take a long time..."
   ]
  },
  {
   "cell_type": "code",
   "execution_count": 5,
   "metadata": {
    "collapsed": false,
    "jupyter": {
     "outputs_hidden": false
    }
   },
   "outputs": [
    {
     "data": {
      "text/plain": [
       "   user  system elapsed \n",
       " 22.660   0.056  22.728 \n"
      ]
     },
     "metadata": {},
     "output_type": "display_data"
    }
   ],
   "source": [
    "%%R\n",
    "system.time(psmelt(physeq))"
   ]
  },
  {
   "cell_type": "markdown",
   "metadata": {},
   "source": [
    "It takes about 30-ish seconds with our example phyloseq object with the ```psmelt``` function. I wonder how fast [dplyr](https://github.com/hadley/dplyr) + [tidyr](https://github.com/hadley/tidyr) can melt our phyloseq object?"
   ]
  },
  {
   "cell_type": "markdown",
   "metadata": {},
   "source": [
    "Let's re-create the ```psmelt``` function with [dplyr](https://github.com/hadley/dplyr) + [tidyr](https://github.com/hadley/tidyr)."
   ]
  },
  {
   "cell_type": "markdown",
   "metadata": {},
   "source": [
    "We need to,"
   ]
  },
  {
   "cell_type": "markdown",
   "metadata": {},
   "source": [
    "1. get our tables (sample data, OTU counts, taxonomy),\n",
    "1. combine our taxonomic info with our OTU counts,\n",
    "1. gather this combined table into a long form version, and\n",
    "1. add in the sample data."
   ]
  },
  {
   "cell_type": "code",
   "execution_count": 6,
   "metadata": {
    "collapsed": false,
    "jupyter": {
     "outputs_hidden": false
    }
   },
   "outputs": [],
   "source": [
    "%%R\n",
    "psmelt.dplyr = function(physeq) {\n",
    "    sd = data.frame(sample_data(physeq))\n",
    "    TT = data.frame(tax_table(physeq)) %>% add_rownames(\"OTU\")\n",
    "    otu.table = data.frame(otu_table(physeq), check.names = FALSE) %>% add_rownames(\"OTU\")\n",
    "    otu.table %>%\n",
    "        left_join(TT) %>%\n",
    "        gather_(\"SampleID\", \"Abundance\", setdiff(colnames(otu.table), \"OTU\")) %>%\n",
    "        left_join(sd)\n",
    "}"
   ]
  },
  {
   "cell_type": "code",
   "execution_count": 7,
   "metadata": {
    "collapsed": false,
    "jupyter": {
     "outputs_hidden": false
    }
   },
   "outputs": [
    {
     "data": {
      "text/plain": [
       "Joining by: \"OTU\"\n",
       "Joining by: \"SampleID\"\n",
       "       OTU SampleID Abundance\n",
       "1  OTU.758    G4F20         2\n",
       "2 OTU.2942    G4F20         0\n",
       "3  OTU.753    G4F20         0\n",
       "4  OTU.752    G4F20         0\n",
       "5  OTU.751    G4F20         0\n",
       "6  OTU.750    G4F20         0\n"
      ]
     },
     "metadata": {},
     "output_type": "display_data"
    }
   ],
   "source": [
    "%%R\n",
    "mdf.dplyr = psmelt.dplyr(physeq)\n",
    "mdf.dplyr %>% select(OTU, SampleID, Abundance) %>% head"
   ]
  },
  {
   "cell_type": "markdown",
   "metadata": {},
   "source": [
    "...and let's see how fast it is."
   ]
  },
  {
   "cell_type": "code",
   "execution_count": 8,
   "metadata": {
    "collapsed": false,
    "jupyter": {
     "outputs_hidden": false
    }
   },
   "outputs": [
    {
     "data": {
      "text/plain": [
       "Joining by: \"OTU\"\n",
       "Joining by: \"SampleID\"\n",
       "   user  system elapsed \n",
       "   1.04    0.00    1.04 \n"
      ]
     },
     "metadata": {},
     "output_type": "display_data"
    }
   ],
   "source": [
    "%%R\n",
    "system.time(psmelt.dplyr(physeq))"
   ]
  },
  {
   "cell_type": "markdown",
   "metadata": {},
   "source": [
    "**Wow. Roughly an order of magnitude faster. dplyr and tidyr are so great. And look at that syntax!**"
   ]
  },
  {
   "cell_type": "markdown",
   "metadata": {},
   "source": [
    "I shold note that I'm using phyloseq version **1.9.15** in this demo."
   ]
  },
  {
   "cell_type": "markdown",
   "metadata": {},
   "source": [
    "The ```psmelt``` function is so useful (and much more rigorous/fool-proof than our quick dplyr/tidyr version) but if you have a huge phyloseq object that takes forever to melt, try dplyr + tidyr."
   ]
  },
  {
   "cell_type": "markdown",
   "metadata": {},
   "source": [
    "Let's do one quick example from the melted ```phyloseq object``` to give you a taste of how useful it is. Let's say we want to make phylum level stacked bar charts for all the studies in the example data. Here's how you might do it from the melted ```phyloseq object```."
   ]
  },
  {
   "cell_type": "code",
   "execution_count": 9,
   "metadata": {
    "collapsed": false,
    "jupyter": {
     "outputs_hidden": false
    },
    "tags": [
     "fullwidth"
    ]
   },
   "outputs": [
    {
     "data": {
      "image/png": "[encoded data removed]"
     },
     "metadata": {},
     "output_type": "display_data"
    }
   ],
   "source": [
    "%%R -w 1200\n",
    "d = mdf.dplyr %>%\n",
    "    group_by(SampleID, Rank2) %>%\n",
    "    filter(Abundance > 0) %>%\n",
    "    summarize(rank2.abund = sum(Abundance), study = first(study)) %>%\n",
    "    mutate(relative.abundance = rank2.abund / sum(rank2.abund))\n",
    "\n",
    "p = ggplot(d, aes(x = SampleID, y = relative.abundance, fill = Rank2)) +\n",
    "    facet_grid(.~study, drop = TRUE, space = \"free\", scales = \"free\") +\n",
    "    geom_bar(stat = \"identity\", width = 0.85) + \n",
    "    theme_bw() + theme(axis.text.x = element_blank(), legend.position = \"none\", strip.background = element_blank())\n",
    "p"
   ]
  },
  {
   "cell_type": "markdown",
   "metadata": {},
   "source": [
    "Snap."
   ]
  },
  {
   "cell_type": "code",
   "execution_count": 23,
   "metadata": {
    "collapsed": false,
    "jupyter": {
     "outputs_hidden": false
    }
   },
   "outputs": [
    {
     "data": {
      "text/plain": [
       "  ggplot2 magrittr tidyr dplyr phyloseq\n",
       "1   1.0.0      1.5 0.2.0 0.4.1   1.9.15\n"
      ]
     },
     "metadata": {},
     "output_type": "display_data"
    }
   ],
   "source": [
    "%%R\n",
    "pckgs  = lapply(names(sessionInfo()$otherPkgs), packageVersion)\n",
    "names(pckgs) = names(sessionInfo()$otherPkgs)\n",
    "data.frame(pckgs)"
   ]
  }
 ],
 "metadata": {
  "kernelspec": {
   "display_name": "Python 3",
   "language": "python",
   "name": "python3"
  },
  "language_info": {
   "codemirror_mode": {
    "name": "ipython",
    "version": 3
   },
   "file_extension": ".py",
   "mimetype": "text/x-python",
   "name": "python",
   "nbconvert_exporter": "python",
   "pygments_lexer": "ipython3",
   "version": "3.7.6"
  },
  "pelican": {
   "date": "2015-04-20",
   "slug": "melt",
   "tags": [
    "R",
    "amplicon"
   ],
   "title": "Melting your phyloseq object with dplyr/tidyr"
  }
 },
 "nbformat": 4,
 "nbformat_minor": 4
}
