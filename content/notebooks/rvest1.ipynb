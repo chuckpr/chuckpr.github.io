{
 "cells": [
  {
   "cell_type": "markdown",
   "metadata": {},
   "source": [
    "I have been looking for a nice excuse to play with ```rvest``` and since we're starting to work with \"CAZYme\" gene annotations in the Buckley lab, scraping the [CAZy](http://www.cazy.org/) website seemed like a good fit. I'm starting simple and will build as I go. This post is just an example of producing a table of [EC](https://en.wikipedia.org/wiki/EC_number) numbers and \"clan\" groupings of the CAZy glycoside hydrolase families."
   ]
  },
  {
   "cell_type": "markdown",
   "metadata": {},
   "source": [
    "We'll pull in all the libraries we need first."
   ]
  },
  {
   "cell_type": "code",
   "execution_count": 16,
   "metadata": {
    "collapsed": false,
    "jupyter": {
     "outputs_hidden": false
    }
   },
   "outputs": [
    {
     "name": "stdout",
     "output_type": "stream",
     "text": [
      "The rpy2.ipython extension is already loaded. To reload it, use:\n",
      "  %reload_ext rpy2.ipython\n"
     ]
    }
   ],
   "source": [
    "%load_ext rpy2.ipython"
   ]
  },
  {
   "cell_type": "code",
   "execution_count": 15,
   "metadata": {
    "collapsed": false,
    "jupyter": {
     "outputs_hidden": false
    }
   },
   "outputs": [],
   "source": [
    "%%R\n",
    "library(rvest)\n",
    "library(plyr); library(dplyr)\n",
    "library(magrittr)\n",
    "library(tidyr)\n",
    "library(ggplot2)"
   ]
  },
  {
   "cell_type": "markdown",
   "metadata": {},
   "source": [
    "The first thing I will do is read in the CAZy website [glycoside hydrolase](http://www.cazy.org/Glycoside-Hydrolases.html) page."
   ]
  },
  {
   "cell_type": "code",
   "execution_count": 6,
   "metadata": {
    "collapsed": false,
    "jupyter": {
     "outputs_hidden": false
    }
   },
   "outputs": [],
   "source": [
    "%%R\n",
    "cazy = html_session(\"http://www.cazy.org/Glycoside-Hydrolases.html\")"
   ]
  },
  {
   "cell_type": "markdown",
   "metadata": {},
   "source": [
    "After inspecting the page, it's clear that the clan names are in table cells of the \"thclan\" ```css``` class and the corresponding families are in cells with the \"clan\" ```css``` class. We can use the ```css``` to quickly get the membership of each clan. "
   ]
  },
  {
   "cell_type": "markdown",
   "metadata": {},
   "source": [
    "Try the [SelectorGadget](http://selectorgadget.com/) for inspecting webpage elements. It's a great way to find ```css``` selectors for scraping."
   ]
  },
  {
   "cell_type": "markdown",
   "metadata": {},
   "source": [
    "You can find a nice explanation of these ```rvest``` functions [here](https://github.com/hadley/rvest)."
   ]
  },
  {
   "cell_type": "code",
   "execution_count": 7,
   "metadata": {
    "collapsed": false,
    "jupyter": {
     "outputs_hidden": false
    }
   },
   "outputs": [],
   "source": [
    "%%R\n",
    "clans = cazy %>% html_nodes(\".thclan\") %>% html_text()\n",
    "families.clan = cazy %>% html_nodes(\".clan\") %>% html_text()"
   ]
  },
  {
   "cell_type": "markdown",
   "metadata": {},
   "source": [
    "The following is just a quick function to parse the text that we just scraped into a dataframe. This took some trial and error but parsing the family string required the following steps: "
   ]
  },
  {
   "cell_type": "markdown",
   "metadata": {},
   "source": [
    "1. trim leading and trailing whitespace (```trimws```), \n",
    "1. split on whitespace (```strsplit```), \n",
    "1. and ```unlist```."
   ]
  },
  {
   "cell_type": "markdown",
   "metadata": {},
   "source": [
    "This function takes an index and spits out a dataframe with two columns: one for the clan and one for the families."
   ]
  },
  {
   "cell_type": "code",
   "execution_count": 8,
   "metadata": {
    "collapsed": false,
    "jupyter": {
     "outputs_hidden": false
    }
   },
   "outputs": [],
   "source": [
    "%%R\n",
    "get_clan_df = function(i) {\n",
    "    data.frame(clan = clans[i], \n",
    "               family = families.clan[i] %>% \n",
    "                   trimws %>% # remove leading and trailing whitespace\n",
    "                   strsplit(\"\\\\s+\", perl = TRUE) %>% # split families into \n",
    "                                                     # individual elements\n",
    "                   unlist, # make it a vector\n",
    "               stringsAsFactors = FALSE)\n",
    "}"
   ]
  },
  {
   "cell_type": "markdown",
   "metadata": {},
   "source": [
    "We can loop through all the clans using ```ldply``` to build a single dataframe of all the clans."
   ]
  },
  {
   "cell_type": "code",
   "execution_count": 9,
   "metadata": {
    "collapsed": false,
    "jupyter": {
     "outputs_hidden": false
    }
   },
   "outputs": [
    {
     "data": {
      "text/plain": [
       "  clan family\n",
       "1 GH-A      1\n",
       "2 GH-A      2\n",
       "3 GH-A      5\n",
       "4 GH-A     10\n",
       "5 GH-A     17\n",
       "6 GH-A     26\n"
      ]
     },
     "metadata": {},
     "output_type": "display_data"
    }
   ],
   "source": [
    "%%R\n",
    "N = length(clans)\n",
    "clan_df = ldply(1:N, get_clan_df)\n",
    "clan_df %>% head"
   ]
  },
  {
   "cell_type": "markdown",
   "metadata": {},
   "source": [
    "The EC information can be parsed similarly. Here the ```css``` selectors are \"thec\" for the EC numbers and \"ec\" for the families. For some reason two unrelated table cells earlier in the page have the \"ec\" class too so I had to omit those from the final families vector."
   ]
  },
  {
   "cell_type": "code",
   "execution_count": 10,
   "metadata": {
    "collapsed": false,
    "jupyter": {
     "outputs_hidden": false
    }
   },
   "outputs": [],
   "source": [
    "%%R\n",
    "ecs = cazy %>% html_nodes(\".thec\") %>% html_text()\n",
    "families.ec = cazy %>% html_nodes(\".ec\") %>% html_text()\n",
    "families.ec = families.ec[3:length(families.ec)]"
   ]
  },
  {
   "cell_type": "code",
   "execution_count": 11,
   "metadata": {
    "collapsed": true,
    "jupyter": {
     "outputs_hidden": true
    }
   },
   "outputs": [],
   "source": [
    "%%R\n",
    "get_ec_df = function(i) {\n",
    "    data.frame(ec = ecs[i], \n",
    "               family = families.ec[i] %>%\n",
    "                   trimws %>%\n",
    "                   strsplit(\"\\\\s+\", perl = TRUE) %>%\n",
    "                   unlist,\n",
    "               stringsAsFactors = FALSE)\n",
    "}"
   ]
  },
  {
   "cell_type": "code",
   "execution_count": 12,
   "metadata": {
    "collapsed": false,
    "jupyter": {
     "outputs_hidden": false
    }
   },
   "outputs": [],
   "source": [
    "%%R\n",
    "N = length(ecs)\n",
    "ec_df = ldply(1:N, get_ec_df)"
   ]
  },
  {
   "cell_type": "markdown",
   "metadata": {},
   "source": [
    "This information will be more useful when we're tallying the annotations in a real dataset, but, we can also do a quick analysis. It looks like the \"GH-A\" clan has the most glycoside hydrolase families and the most EC activities. Beyond that, the clans have similar numbers of families but vary with respect to number of EC activities. (Note how the \"clan\" column can be sorted using ```magrittr``` and ```dplyr```. Graphs that aren't sensibly sorted are a huge pet peeve of mine :) . Also, I'm using ```tidyr``` to get the table in the proper orientation for plotting.)"
   ]
  },
  {
   "cell_type": "code",
   "execution_count": 17,
   "metadata": {
    "collapsed": false,
    "jupyter": {
     "outputs_hidden": false
    },
    "tags": [
     "fullwidth"
    ]
   },
   "outputs": [
    {
     "data": {
      "text/plain": [
       "Source: local data frame [6 x 3]\n",
       "\n",
       "  clan          key count\n",
       "1 GH-A     ec.count    58\n",
       "2 GH-H     ec.count    32\n",
       "3 GH-A family.count    19\n",
       "4 GH-B     ec.count    17\n",
       "5 GH-D     ec.count    15\n",
       "6 GH-J     ec.count    15\n"
      ]
     },
     "metadata": {},
     "output_type": "display_data"
    },
    {
     "data": {
      "image/png": "[encoded data removed]"
     },
     "metadata": {},
     "output_type": "display_data"
    }
   ],
   "source": [
    "%%R -w 800 -h 350\n",
    "d = ec_df %>% \n",
    "    left_join(clan_df) %>%\n",
    "    group_by(clan) %>%\n",
    "    summarize(ec.count = length(unique(ec)), \n",
    "              family.count = length(unique(family))) %>%\n",
    "    gather(key, count, -clan) %>% {\n",
    "        ec.sort = arrange(., desc(count)) %>% # sort by count \n",
    "            filter(key == \"ec.count\") %>%\n",
    "            extract2(\"clan\") # get a list of clans sorted by ec count\n",
    "        mutate(., clan = factor(clan, levels = ec.sort)) # make the clan \n",
    "                                                         # a factor sorted \n",
    "                                                         # by ec count\n",
    "    }\n",
    "\n",
    "d %>% arrange(desc(count)) %>% head %>% print\n",
    "\n",
    "p = ggplot(d, aes(x = clan, y = count, fill = key)) +\n",
    "    geom_bar(stat = \"identity\", position = \"dodge\") +\n",
    "    theme(axis.text.x = element_text(angle = 45, hjust = 1))\n",
    "\n",
    "p"
   ]
  },
  {
   "cell_type": "markdown",
   "metadata": {},
   "source": [
    "We can also look at the families with the most associated EC activities. Family 13 is has 30 EC activities associated with it! I found this somewhat baffling but it looks like Family 13 and other CAZy glycoside hydrolase families have been broken down into subfamilies that have more specific activites:"
   ]
  },
  {
   "cell_type": "markdown",
   "metadata": {},
   "source": [
    "><b>Dividing the large glycoside hydrolase family 13 into subfamilies: \n",
    ">towards improved functional annotations of alpha-amylase-related proteins.</b>\n",
    ">Stam MR, Danchin EG, Rancurel C, Coutinho PM, Henrissat B.\n",
    ">Protein Eng Des Sel. 2006 Dec;19(12):555-62."
   ]
  },
  {
   "cell_type": "code",
   "execution_count": 14,
   "metadata": {
    "collapsed": false,
    "jupyter": {
     "outputs_hidden": false
    }
   },
   "outputs": [
    {
     "data": {
      "text/plain": [
       "Source: local data frame [6 x 2]\n",
       "\n",
       "  family count\n",
       "1     13    30\n",
       "2      1    25\n",
       "3      5    23\n",
       "4     16    14\n",
       "5      3    14\n",
       "6     32    14\n"
      ]
     },
     "metadata": {},
     "output_type": "display_data"
    },
    {
     "data": {
      "image/png": "[encoded data removed]"
     },
     "metadata": {},
     "output_type": "display_data"
    }
   ],
   "source": [
    "%%R -h 350 -w 600\n",
    "ec_df %>%\n",
    "    group_by(family) %>%\n",
    "    summarize(count = n()) %>%\n",
    "    arrange(desc(count)) %>% {print(head(.)); .} %>%\n",
    "    extract2(\"count\") %>%\n",
    "    hist(breaks = 100, main = \"\", xlab = \"# of EC activities\")"
   ]
  },
  {
   "cell_type": "markdown",
   "metadata": {},
   "source": [
    "This was so painless! It's so easy to use css selectors to get the information we're after."
   ]
  }
 ],
 "metadata": {
  "kernelspec": {
   "display_name": "R",
   "language": "R",
   "name": "ir"
  },
  "language_info": {
   "codemirror_mode": "r",
   "file_extension": ".r",
   "mimetype": "text/x-r-source",
   "name": "R",
   "pygments_lexer": "r",
   "version": "3.6.2"
  },
  "pelican": {
   "date": "2015-08-02",
   "image": "notebooks/images/rvest1_21_1.png",
   "slug": "rvest",
   "tags": [
    "R",
    "genomics"
   ],
   "title": "Using rvest to scrape the CAZy website"
  }
 },
 "nbformat": 4,
 "nbformat_minor": 4
}
