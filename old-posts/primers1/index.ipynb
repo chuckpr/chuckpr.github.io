{
 "cells": [
  {
   "cell_type": "raw",
   "metadata": {},
   "source": [
    "---\n",
    "title: Exploring 515F primer targets in archaeal and bacterial SSU rRNA genes\n",
    "author: ChuckPR\n",
    "date: 2015-04-14\n",
    "format:\n",
    "  html:\n",
    "    code-fold: false\n",
    "---"
   ]
  },
  {
   "cell_type": "markdown",
   "metadata": {},
   "source": [
    "Microbial ecologists have long considered the 515F SSU rRNA gene PCR primer to be \"universal.\" That is, the 515F primer is thought to amplify Eukarya, Archaea, and Bacteria. Indeed the target of the 515F primer is well conserved across each domain, however, the there are some differences in the primer target between domains that should be considered when evaluating 515F for use in a microbial diversity studies."
   ]
  },
  {
   "cell_type": "markdown",
   "metadata": {},
   "source": [
    "To make matters more complicated the 515F primer has changed from its inception to account for new sequence information and it's not clear from the literature which 515F version is most effective. *In this post, we'll take a look at tbe 515F primer target across a broad diversity of SSU rRNA genes*. In subsequent posts we'll evaluate different 515F versions and we'll also evaluate reverse primers that can be paired with 515F. While there are excellent tools avaliable for SSU rRNA gene PCR primer analysis (see [PrimerProspector](http://pprospector.sourceforge.net/), [TestPrime](http://www.arb-silva.de/search/testprime/)), most tools focus on nucleotide frequecies in aligments. In this post, we'll evaluate 515F by looking at the distribution of 515F target oligos."
   ]
  },
  {
   "cell_type": "markdown",
   "metadata": {},
   "source": [
    "We'll use the 99% OTU seed sequences for the GreenGenes database as reference. You can download the GreenGenes files from [here](https://rnacentral.org/expert-database/greengenes). This analysis will focus on Archaea and Bacteria."
   ]
  },
  {
   "cell_type": "markdown",
   "metadata": {},
   "source": [
    "First we need to import some python functions and modules as well as load some extensions for the IPython notebook."
   ]
  },
  {
   "cell_type": "code",
   "execution_count": 1,
   "metadata": {
    "collapsed": false,
    "jupyter": {
     "outputs_hidden": false
    }
   },
   "outputs": [],
   "source": [
    "%matplotlib inline\n",
    "%load_ext rpy2.ipython\n",
    "import matplotlib.pyplot as plt\n",
    "import re\n",
    "from align import aligner\n",
    "from skbio import DNA, parse_fasta, SequenceCollection\n",
    "import pandas as pd"
   ]
  },
  {
   "cell_type": "markdown",
   "metadata": {},
   "source": [
    "Eventually we'll want to explore target sites by their taxonomic affiliation so we need to get the taxonomic information from the GreenGenes files we downloaded (above). The following code is a quick and dirty way to populate a [pandas](http://pandas.pydata.org/) DataFrame with the taxonomic annotations for the gene sequences we'll be working with."
   ]
  },
  {
   "cell_type": "code",
   "execution_count": 2,
   "metadata": {
    "collapsed": false,
    "jupyter": {
     "outputs_hidden": false
    }
   },
   "outputs": [],
   "source": [
    "def parse_tax(line):\n",
    "    id, tax_str = line.split(\"\\t\")\n",
    "    k, p, c, o, f, g, s = tax_str.rstrip().split(\";\")\n",
    "    tax_dict = {\"kingdom\" : k.split(\"__\")[1],\n",
    "                \"phylum\"  : p.split(\"__\")[1],\n",
    "                \"class\"   : c.split(\"__\")[1],\n",
    "                \"family\"  : f.split(\"__\")[1],\n",
    "                \"order\"   : o.split(\"__\")[1],\n",
    "                \"genus\"   : g.split(\"__\")[1],\n",
    "                \"species\" : s.split(\"__\")[1],\n",
    "                \"id\"      : id}\n",
    "    return tax_dict\n",
    "    \n",
    "\n",
    "df = pd.DataFrame.from_records([parse_tax(line) for line in \n",
    "                                open(\"data/gg_13_5_otus/taxonomy/99_otu_taxonomy.txt\")])\n",
    "\n",
    "df.set_index(\"id\", inplace=True)"
   ]
  },
  {
   "cell_type": "markdown",
   "metadata": {},
   "source": [
    "Now that we have the taxonomy for each sequence, let's get the 515F target site. To do this we just align one combination of the degenerate 515F primer to each SSU rRNA gene sequence. We then pull out the aligned region from the SSU rRNA gene sequence -- this is the 515F target! I'm using the ```glocal``` method for the ```Python``` [aligner](https://github.com/brentp/align) package for the alignment and I'm using [scikit-bio](http://scikit-bio.org/) to parse and manage the SSU rRNA gene sequenes."
   ]
  },
  {
   "cell_type": "code",
   "execution_count": 3,
   "metadata": {
    "collapsed": false,
    "jupyter": {
     "outputs_hidden": false
    }
   },
   "outputs": [],
   "source": [
    "fn = \"data/gg_13_5_otus/rep_set/99_otus.fasta\"\n",
    "degens = DNA.iupac_degenerate_characters()\n",
    "seqs = SequenceCollection.from_fasta_records([(n, s) for n, s in parse_fasta(fn) \n",
    "                                              if not any(i in s for i in degens)], \n",
    "                                             DNA)\n",
    "\n",
    "ids = [seq[0] for seq in seqs.iteritems()]"
   ]
  },
  {
   "cell_type": "code",
   "execution_count": 4,
   "metadata": {
    "collapsed": false,
    "jupyter": {
     "outputs_hidden": false
    }
   },
   "outputs": [
    {
     "name": "stdout",
     "output_type": "stream",
     "text": [
      "CPU times: user 20min 29s, sys: 112 ms, total: 20min 30s\n",
      "Wall time: 20min 31s\n"
     ]
    }
   ],
   "source": [
    "%%time\n",
    "F515 = DNA(\"GTGCCAGCCGCCGCGGTAA\") #GTGCCAGCMGCCGCGGTAA  M = [CA]\n",
    "\n",
    "primer_targets_515 = [aligner(F515.sequence, \n",
    "                              seq[1].sequence,\n",
    "                              method = \"glocal\")[1] \n",
    "                      for seq in seqs.iteritems()]"
   ]
  },
  {
   "cell_type": "markdown",
   "metadata": {},
   "source": [
    "Now we can join our target and taxonomy information into a single DataFrame. Each row represents one target from one gene. Specifically, each row has the target sequence and corresponding taxonomic information."
   ]
  },
  {
   "cell_type": "code",
   "execution_count": 5,
   "metadata": {
    "collapsed": false,
    "jupyter": {
     "outputs_hidden": false
    }
   },
   "outputs": [],
   "source": [
    "df_targets = df.join(pd.Series(primer_targets_515, index=ids, name = \"515F\"), how = \"left\")\n",
    "df_targets.dropna(axis=0, subset=[\"515F\"], inplace=True)"
   ]
  },
  {
   "cell_type": "markdown",
   "metadata": {},
   "source": [
    "I love [pandas](http://pandas.pydata.org/) but I think for this application it will be best to use the (mind-blowingly amazing) R package [dplyR](http://cran.rstudio.com/web/packages/dplyr/vignettes/introduction.html). So, we need to push our pandas DataFrame into  an R session. I'm using the ```rmagic``` functions from [IPython](http://ipython.org/)/[rpy2](http://rpy.sourceforge.net/) to move from Python to R."
   ]
  },
  {
   "cell_type": "code",
   "execution_count": 6,
   "metadata": {
    "collapsed": false,
    "jupyter": {
     "outputs_hidden": false
    }
   },
   "outputs": [],
   "source": [
    "%R -i df_targets"
   ]
  },
  {
   "cell_type": "code",
   "execution_count": 7,
   "metadata": {
    "collapsed": false,
    "jupyter": {
     "outputs_hidden": false
    }
   },
   "outputs": [
    {
     "data": {
      "text/plain": [
       "\n",
       "Attaching package: ‘dplyr’\n",
       "\n",
       "The following object is masked from ‘package:stats’:\n",
       "\n",
       "    filter\n",
       "\n",
       "The following objects are masked from ‘package:base’:\n",
       "\n",
       "    intersect, setdiff, setequal, union\n",
       "\n"
      ]
     },
     "metadata": {},
     "output_type": "display_data"
    }
   ],
   "source": [
    "%%R\n",
    "library(dplyr)\n",
    "library(ggplot2)\n",
    "library(ggthemes)\n",
    "library(magrittr)\n",
    "# <!-- collapse=True -->"
   ]
  },
  {
   "cell_type": "markdown",
   "metadata": {},
   "source": [
    "Ok, now we can make some figures! Let's first look at the ten most abundant archaeal and bacterial 515F targets. You can see below that the bacterial 515F targets are dominated by a single sequence, and, that although the nineteen targets are similar in sequence there is little overlap in target representation between Archaea and Bacteria."
   ]
  },
  {
   "cell_type": "code",
   "execution_count": 8,
   "metadata": {
    "collapsed": false,
    "jupyter": {
     "outputs_hidden": false
    }
   },
   "outputs": [
    {
     "data": {
      "image/png": "[encoded data removed]"
     },
     "metadata": {},
     "output_type": "display_data"
    }
   ],
   "source": [
    "#| code-fold: true\n",
    "#| fig-align: center\n",
    "%%R -w 600\n",
    "d = df_targets %>%\n",
    "    group_by(kingdom, X515F) %>%\n",
    "    summarize(count = n()) %>%\n",
    "    filter(rank(desc(count), ties.method = \"random\") <= 10) %>%\n",
    "    arrange(desc(count), kingdom) %>%\n",
    "    mutate(X515F = factor(X515F, levels = unique(.$X515F)))\n",
    "\n",
    "p = ggplot(d, aes(x = X515F, y = count))\n",
    "\n",
    "p = p + facet_wrap(~kingdom, ncol = 1, scales = \"free_y\")\n",
    "\n",
    "p = p + geom_bar(stat = \"identity\", fill = \"#14979B\")\n",
    "\n",
    "p = p + labs(x = \"\")\n",
    "\n",
    "p = p + scale_y_log10()\n",
    "\n",
    "p = p + theme_bw()\n",
    "\n",
    "p = p + theme(axis.text.x = element_text(angle = 60, hjust = 1, size = 12),\n",
    "              axis.text.y = element_text(size = 12),\n",
    "              axis.title = element_text(size = 16),\n",
    "              strip.background = element_blank(),\n",
    "              strip.text = element_text(size = 16))\n",
    "                                    \n",
    "p\n",
    "# <!-- collapse=True -->"
   ]
  },
  {
   "cell_type": "markdown",
   "metadata": {},
   "source": [
    "If we dig a little deeper into to archaeal 515F targets, we see some interesting trends among phyla. There are very few Nanoarchaea sequences in the reference database but they all have the same 515F target sequence which appears to be unique to Nanoarchaea. Also, there are a couple relatively abundant 515F target sequences with insertions. Eight of the ten most abundant archaeal 515F targets are identical over the last six nucleotides at the 3' end of the 515F primer."
   ]
  },
  {
   "cell_type": "code",
   "execution_count": 9,
   "metadata": {
    "collapsed": false,
    "jupyter": {
     "outputs_hidden": false
    }
   },
   "outputs": [
    {
     "data": {
      "image/png": "[encoded data removed]"
     },
     "metadata": {},
     "output_type": "display_data"
    }
   ],
   "source": [
    "#| code-fold: true\n",
    "#| fig-align: center\n",
    "%%R -h 550 -w 400\n",
    "d = df_targets %>%\n",
    "    filter(kingdom == \"Archaea\", phylum != \"\") %>%\n",
    "    {\n",
    "        top10 = group_by(., X515F) %>%\n",
    "            summarize(count = n()) %>%\n",
    "            filter(rank(desc(count), ties.method = \"random\") <= 10) %>%\n",
    "            extract2(\"X515F\") %>% \n",
    "            unique %>%\n",
    "            as.character\n",
    "        filter(., X515F %in% top10) \n",
    "    } %>%\n",
    "    group_by(phylum, X515F) %>%\n",
    "    summarize(count = n()) %>%\n",
    "    {\n",
    "        psort = group_by(., X515F) %>%\n",
    "            summarize(S = sum(count)) %>%\n",
    "            arrange(desc(S)) %>%\n",
    "            extract2(\"X515F\") %>% as.character\n",
    "        mutate(., X515F = factor(X515F, levels = psort))\n",
    "    }\n",
    "\n",
    "p = ggplot(d, aes(x = X515F, y = count))\n",
    "\n",
    "p = p + facet_wrap(~phylum, ncol = 1, scales = \"free_y\")\n",
    "\n",
    "p = p + geom_bar(stat = \"identity\", fill = \"#14979B\")\n",
    "\n",
    "p = p + labs(x = \"\")\n",
    "\n",
    "p = p + scale_y_log10()\n",
    "\n",
    "p = p + theme_bw()\n",
    "\n",
    "p = p + theme(axis.text.x = element_text(angle = 60, hjust = 1, size = 12),\n",
    "              axis.text.y = element_text(size = 12),\n",
    "              axis.title = element_text(size = 16),\n",
    "              strip.background = element_blank(),\n",
    "              strip.text = element_text(size = 16))\n",
    "\n",
    "p"
   ]
  },
  {
   "cell_type": "markdown",
   "metadata": {},
   "source": [
    "The Bacteria appear to be dominated by a single target sequence (above). Let's get that sequence explicitly."
   ]
  },
  {
   "cell_type": "code",
   "execution_count": 10,
   "metadata": {
    "collapsed": false,
    "jupyter": {
     "outputs_hidden": false
    }
   },
   "outputs": [
    {
     "data": {
      "text/plain": [
       "[1] \"The most abundant target sequence among bacteria is GTGCCAGCAGCCGCGGTAA\"\n"
      ]
     },
     "metadata": {},
     "output_type": "display_data"
    }
   ],
   "source": [
    "%%R\n",
    "max.target = df_targets %>%\n",
    "    filter(kingdom == \"Bacteria\") %>%\n",
    "    group_by(X515F) %>%\n",
    "    summarize(count = n()) %>%\n",
    "    arrange(desc(count)) %>%\n",
    "    filter(rank(desc(count)) == 1) %>%\n",
    "    extract2(\"X515F\") %>% as.character\n",
    "\n",
    "paste(\"The most abundant target sequence among bacteria is\", max.target)\n",
    "# <!-- collapse=True -->"
   ]
  },
  {
   "cell_type": "markdown",
   "metadata": {},
   "source": [
    "There are some phyla, however, that are not as dominated by the most abundant bacterial 515F target. Here is a histogram of representation (percentages of total targets) within phylum for the most abundant bacterial 515F target. You can see that there are nine phyla for which the most abundant 515F bacterial target represents less than 80% of total targets."
   ]
  },
  {
   "cell_type": "code",
   "execution_count": 11,
   "metadata": {
    "collapsed": false,
    "jupyter": {
     "outputs_hidden": false
    }
   },
   "outputs": [
    {
     "data": {
      "image/png": "[encoded data removed]"
     },
     "metadata": {},
     "output_type": "display_data"
    }
   ],
   "source": [
    "#| fig-align: center\n",
    "%%R -h 350\n",
    "df_targets %>%\n",
    "    filter(kingdom == \"Bacteria\", phylum != \"\" ) %>%\n",
    "    group_by(phylum, X515F) %>%\n",
    "    summarize(count = n()) %>%\n",
    "    group_by(phylum) %>%\n",
    "    mutate(count.relative = count / sum(count)) %>%\n",
    "    filter(X515F == max.target) %>%\n",
    "    extract2(\"count.relative\") %>% hist(breaks = 50,\n",
    "                                        main = \"Histogram of most abundant target representation in phlya\")\n",
    "# <!-- collapse=True -->"
   ]
  },
  {
   "cell_type": "markdown",
   "metadata": {},
   "source": [
    "Let's see what the 515F targets look like for those nine phyla (above). The plot below shows the five most abundant 515F targets ranked by max representation within a phylum for the nine selected phyla. You can see that FCPU426, WS5, and GN01 515F targets are still dominated by the most abundant 515F target across all bacteria (GTGCCAGCAGCCGCGGTAA). The TM7 phylum 515F targets differ from the most abundant target at the 3' end of the 515F primer."
   ]
  },
  {
   "cell_type": "code",
   "execution_count": 12,
   "metadata": {
    "collapsed": false,
    "jupyter": {
     "outputs_hidden": false
    }
   },
   "outputs": [
    {
     "data": {
      "image/png": "[encoded data removed]"
     },
     "metadata": {},
     "output_type": "display_data"
    }
   ],
   "source": [
    "#| code-fold: true\n",
    "#| fig-align: center\n",
    "%%R -w 600 -h 500\n",
    "d = df_targets %>%\n",
    "    filter(kingdom == \"Bacteria\", phylum != \"\" ) %>%\n",
    "    group_by(phylum, X515F) %>%\n",
    "    summarize(count = n()) %>%\n",
    "    group_by(phylum) %>%\n",
    "    mutate(count.relative = count / sum(count)) %>%\n",
    "    {\n",
    "        keep = filter(., X515F == max.target, count.relative <= 0.80) %>%\n",
    "            extract2(\"phylum\") %>% \n",
    "            unique %>%\n",
    "            as.character\n",
    "        filter(., phylum %in% keep)\n",
    "    } %>%\n",
    "    {\n",
    "        top = group_by(., X515F) %>%\n",
    "            summarize(m = max(count.relative)) %>%\n",
    "            filter(rank(desc(m), ties.method = \"random\") <= 5) %>%\n",
    "            arrange(desc(m)) %>%\n",
    "            extract2(\"X515F\") %>% \n",
    "            unique %>%\n",
    "            as.character\n",
    "        filter(., X515F %in% top) %>% mutate(X515F = factor(X515F, levels = top))\n",
    "    }\n",
    "\n",
    "p = ggplot(d, aes(x = X515F, y = count.relative))\n",
    "\n",
    "p = p + facet_wrap(~phylum, ncol = 3, scales = \"free_y\")\n",
    "\n",
    "p = p + geom_bar(stat = \"identity\", fill = \"#14979B\")\n",
    "\n",
    "p = p + labs(x = \"\")\n",
    "\n",
    "p = p + theme_bw()\n",
    "\n",
    "p = p + theme(axis.text.x = element_text(angle = 65, hjust = 1, size = 12),\n",
    "              axis.text.y = element_text(size = 12),\n",
    "              axis.title = element_text(size = 16),\n",
    "              strip.background = element_blank(),\n",
    "              strip.text = element_text(size = 16))\n",
    "\n",
    "p\n",
    "# <!-- collapse=True -->"
   ]
  },
  {
   "cell_type": "markdown",
   "metadata": {},
   "source": [
    "I would guess that these nine phyla are the most likely to be missed by commonly used variants of 515F primers. "
   ]
  },
  {
   "cell_type": "markdown",
   "metadata": {},
   "source": [
    "**In the next post we'll test that hypothesis by evaluating how well the 515F primer matches the targets we've identified...**"
   ]
  }
 ],
 "metadata": {
  "kernelspec": {
   "display_name": "Python 3 (ipykernel)",
   "language": "python",
   "name": "python3"
  },
  "language_info": {
   "codemirror_mode": {
    "name": "ipython",
    "version": 3
   },
   "file_extension": ".py",
   "mimetype": "text/x-python",
   "name": "python",
   "nbconvert_exporter": "python",
   "pygments_lexer": "ipython3",
   "version": "3.11.1"
  },
  "pelican": {
   "date": "2015-04-14",
   "slug": "primers1",
   "tags": [
    "R",
    "Python",
    "amplicon"
   ],
   "title": "Exploring 515F primer targets in archaeal and bacterial SSU rRNA genes"
  }
 },
 "nbformat": 4,
 "nbformat_minor": 4
}
